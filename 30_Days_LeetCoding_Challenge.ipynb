{
  "nbformat": 4,
  "nbformat_minor": 0,
  "metadata": {
    "colab": {
      "name": "30_Days_LeetCoding_Challenge.ipynb",
      "provenance": [],
      "collapsed_sections": [],
      "authorship_tag": "ABX9TyO4/O9t2FJx3iSvUvVV6Md+",
      "include_colab_link": true
    },
    "kernelspec": {
      "name": "python3",
      "display_name": "Python 3"
    }
  },
  "cells": [
    {
      "cell_type": "markdown",
      "metadata": {
        "id": "view-in-github",
        "colab_type": "text"
      },
      "source": [
        "<a href=\"https://colab.research.google.com/github/hritik7080/30-Days-LeetCoding-Challenge-Solutions/blob/master/30_Days_LeetCoding_Challenge.ipynb\" target=\"_parent\"><img src=\"https://colab.research.google.com/assets/colab-badge.svg\" alt=\"Open In Colab\"/></a>"
      ]
    },
    {
      "cell_type": "markdown",
      "metadata": {
        "id": "Gr9_hii8Zr5A",
        "colab_type": "text"
      },
      "source": [
        "## Day 1: Single Number\n",
        "\n",
        "Given a non-empty array of integers, every element appears twice except for one. Find that single one.\n",
        "\n",
        "Note:\n",
        "\n",
        "Your algorithm should have a linear runtime complexity. Could you implement it without using extra memory?\n",
        "\n",
        "https://leetcode.com/explore/challenge/card/30-day-leetcoding-challenge/528/week-1/3283/"
      ]
    },
    {
      "cell_type": "code",
      "metadata": {
        "id": "y7gC-hr3Zr5A",
        "colab_type": "code",
        "colab": {}
      },
      "source": [
        "class Solution:\n",
        "    def singleNumber(self, nums: List[int]) -> int:\n",
        "        res = 0\n",
        "        for i in range(0,len(nums)):\n",
        "            res = res ^ nums[i]\n",
        "        return res"
      ],
      "execution_count": 0,
      "outputs": []
    },
    {
      "cell_type": "markdown",
      "metadata": {
        "id": "62gzA0wYZr47",
        "colab_type": "text"
      },
      "source": [
        "## Day 2: Happy Number\n",
        "\n",
        "Write an algorithm to determine if a number is \"happy\".\n",
        "\n",
        "A happy number is a number defined by the following process: Starting with any positive integer, replace the number by the sum of the squares of its digits, and repeat the process until the number equals 1 (where it will stay), or it loops endlessly in a cycle which does not include 1. Those numbers for which this process ends in 1 are happy numbers.\n",
        "\n",
        "https://leetcode.com/explore/challenge/card/30-day-leetcoding-challenge/528/week-1/3284/"
      ]
    },
    {
      "cell_type": "code",
      "metadata": {
        "id": "dZxMh24VZr47",
        "colab_type": "code",
        "colab": {}
      },
      "source": [
        "class Solution:\n",
        "    def isHappy(self, n: int) -> bool:\n",
        "        if n==1:\n",
        "            return True\n",
        "        done =[n]\n",
        "        \n",
        "        while True:\n",
        "            l=[int(i)**2 for i in str(n)]\n",
        "            s = sum(l)\n",
        "            \n",
        "            if s in done:\n",
        "                return False\n",
        "            \n",
        "            if s==1:\n",
        "                return True\n",
        "            done.append(s)\n",
        "            n=s"
      ],
      "execution_count": 0,
      "outputs": []
    },
    {
      "cell_type": "markdown",
      "metadata": {
        "id": "JjBcpgsHZr44",
        "colab_type": "text"
      },
      "source": [
        "## Day 3:  Maximum Subarray\n",
        "Given an integer array nums, find the contiguous subarray (containing at least one number) which has the largest sum and return its sum.\n",
        "If you have figured out the O(n) solution, try coding another solution using the divide and conquer approach, which is more subtle.<br>\n",
        "https://leetcode.com/explore/challenge/card/30-day-leetcoding-challenge/528/week-1/3285/"
      ]
    },
    {
      "cell_type": "code",
      "metadata": {
        "id": "DfU2T7yXZr45",
        "colab_type": "code",
        "colab": {}
      },
      "source": [
        "class Solution:\n",
        "    def maxSubArray(self, nums: List[int]) -> int:\n",
        "        csum=nums[0]\n",
        "        osum=nums[0]\n",
        "        for i in nums[1:]:\n",
        "            sum = csum+i\n",
        "            if sum>=i:\n",
        "                csum=csum+i\n",
        "            else:\n",
        "                csum=i\n",
        "            osum = max(csum, osum)\n",
        "        return osum\n",
        "    "
      ],
      "execution_count": 0,
      "outputs": []
    },
    {
      "cell_type": "markdown",
      "metadata": {
        "id": "0cd3vG1lZr42",
        "colab_type": "text"
      },
      "source": [
        "## Day 4: Move Zeroes\n",
        "\n",
        "Given an array nums, write a function to move all 0's to the end of it while maintaining the relative order of the non-zero elements.\n",
        "\n",
        "You must do this in-place without making a copy of the array.\n",
        "Minimize the total number of operations.\n",
        "\n",
        "https://leetcode.com/explore/challenge/card/30-day-leetcoding-challenge/528/week-1/3286/"
      ]
    },
    {
      "cell_type": "code",
      "metadata": {
        "id": "yt26t4KqZr42",
        "colab_type": "code",
        "colab": {}
      },
      "source": [
        "class Solution:\n",
        "    def moveZeroes(self, nums: List[int]) -> None:\n",
        "        \"\"\"\n",
        "        Do not return anything, modify nums in-place instead.\n",
        "        \"\"\"\n",
        "        p = 0\n",
        "        for i,v in enumerate(nums):\n",
        "            if v==0:\n",
        "                continue\n",
        "            nums[p], nums[i] = nums[i], nums[p]\n",
        "            p+=1"
      ],
      "execution_count": 0,
      "outputs": []
    },
    {
      "cell_type": "markdown",
      "metadata": {
        "id": "Xe68goGyZr4u",
        "colab_type": "text"
      },
      "source": [
        "## Day 5: Best Time to Buy and Sell Stock II\n",
        "\n",
        "Say you have an array for which the ith element is the price of a given stock on day i.\n",
        "\n",
        "Design an algorithm to find the maximum profit. You may complete as many transactions as you like (i.e., buy one and sell one share of the stock multiple times).\n",
        "\n",
        "Note: You may not engage in multiple transactions at the same time (i.e., you must sell the stock before you buy again).\n",
        "\n",
        "https://leetcode.com/explore/challenge/card/30-day-leetcoding-challenge/528/week-1/3287/"
      ]
    },
    {
      "cell_type": "code",
      "metadata": {
        "id": "bSjDoL6PZr4v",
        "colab_type": "code",
        "colab": {}
      },
      "source": [
        "class Solution:\n",
        "    def maxProfit(self, prices: List[int]) -> int:\n",
        "        maxpro=0\n",
        "        for i in range(1, len(prices)):\n",
        "            if prices[i]>prices[i-1]:\n",
        "                maxpro+=prices[i]-prices[i-1]\n",
        "        return maxpro"
      ],
      "execution_count": 0,
      "outputs": []
    },
    {
      "cell_type": "markdown",
      "metadata": {
        "id": "EEEEU0zgZr4r",
        "colab_type": "text"
      },
      "source": [
        "## Day 6: Group Anagrams\n",
        "Given an array of strings, group anagrams together.\n",
        "Example:\n",
        "\n",
        "Input: [\"eat\", \"tea\", \"tan\", \"ate\", \"nat\", \"bat\"], <br>\n",
        "Output:\n",
        "[\n",
        "  [\"ate\",\"eat\",\"tea\"],\n",
        "  [\"nat\",\"tan\"],\n",
        "  [\"bat\"]\n",
        "]\n",
        "\n",
        "Note:\n",
        "\n",
        "All inputs will be in lowercase.\n",
        "The order of your output does not matter.\n",
        "\n",
        "https://leetcode.com/explore/challenge/card/30-day-leetcoding-challenge/528/week-1/3288/"
      ]
    },
    {
      "cell_type": "code",
      "metadata": {
        "id": "IWCh6YfXZr4r",
        "colab_type": "code",
        "colab": {}
      },
      "source": [
        "class Solution:\n",
        "    def groupAnagrams(self, strs: List[str]) -> List[List[str]]:\n",
        "        strings = [' '.join(sorted(i)) for i in strs]\n",
        "        d=dict()\n",
        "        for i, j in zip(strings, strs):\n",
        "            if d.get(i, False):\n",
        "                d[i].append(j)\n",
        "            else:\n",
        "                d[i]=[]\n",
        "                d[i].append(j)\n",
        "        return list(d.values())"
      ],
      "execution_count": 0,
      "outputs": []
    },
    {
      "cell_type": "markdown",
      "metadata": {
        "id": "HXn8xDNEZr4n",
        "colab_type": "text"
      },
      "source": [
        "## Day 7: Counting Elements\n",
        "\n",
        "Given an integer array arr, count element x such that x + 1 is also in arr.\n",
        "\n",
        "If there're duplicates in arr, count them seperately.\n",
        "\n",
        "https://leetcode.com/explore/challenge/card/30-day-leetcoding-challenge/528/week-1/3289/"
      ]
    },
    {
      "cell_type": "code",
      "metadata": {
        "id": "Zxhc4FlKZr4o",
        "colab_type": "code",
        "colab": {}
      },
      "source": [
        "class Solution:\n",
        "    def countElements(self, arr: List[int]) -> int:\n",
        "        count=0\n",
        "        for i in arr:\n",
        "            if i+1 in arr:\n",
        "                count+=1\n",
        "        return count"
      ],
      "execution_count": 0,
      "outputs": []
    },
    {
      "cell_type": "markdown",
      "metadata": {
        "id": "OopKQVyDZr4k",
        "colab_type": "text"
      },
      "source": [
        "## Day 8: Middle of the Linked List\n",
        "\n",
        "Given a non-empty, singly linked list with head node head, return a middle node of linked list.\n",
        "\n",
        "If there are two middle nodes, return the second middle node.\n",
        "\n",
        "Note:\n",
        "\n",
        "The number of nodes in the given list will be between 1 and 100.\n",
        "\n",
        "Example 1:\n",
        "\n",
        "Input: [1,2,3,4,5]\n",
        "Output: Node 3 from this list (Serialization: [3,4,5])\n",
        "The returned node has value 3.  (The judge's serialization of this node is [3,4,5]).\n",
        "Note that we returned a ListNode object ans, such that:\n",
        "ans.val = 3, ans.next.val = 4, ans.next.next.val = 5, and ans.next.next.next = NULL.\n",
        "Example 2:\n",
        "\n",
        "Input: [1,2,3,4,5,6]\n",
        "Output: Node 4 from this list (Serialization: [4,5,6])\n",
        "Since the list has two middle nodes with values 3 and 4, we return the second one.\n",
        "\n",
        "https://leetcode.com/explore/challenge/card/30-day-leetcoding-challenge/529/week-2/3290/"
      ]
    },
    {
      "cell_type": "code",
      "metadata": {
        "id": "42jwkO4NZr4k",
        "colab_type": "code",
        "colab": {}
      },
      "source": [
        "# Definition for singly-linked list.\n",
        "# class ListNode:\n",
        "#     def __init__(self, x):\n",
        "#         self.val = x\n",
        "#         self.next = None\n",
        "\n",
        "class Solution:\n",
        "    def middleNode(self, head: ListNode) -> ListNode:\n",
        "        c=0\n",
        "        temp = head\n",
        "        while temp:\n",
        "            temp=temp.next\n",
        "            c+=1\n",
        "        if c==1:\n",
        "            return head\n",
        "        c//=2\n",
        "        c+=1\n",
        "        p=0\n",
        "        while head:\n",
        "            p+=1\n",
        "            if p==c:\n",
        "                return head\n",
        "            head=head.next\n",
        "            "
      ],
      "execution_count": 0,
      "outputs": []
    },
    {
      "cell_type": "markdown",
      "metadata": {
        "id": "HbeAxkqeZr4e",
        "colab_type": "text"
      },
      "source": [
        "## Day 9: Backspace String Compare\n",
        "Given two strings S and T, return if they are equal when both are typed into empty text editors. # means a backspace character.\n",
        "\n",
        "Example 1:\n",
        "\n",
        "Input: S = \"ab#c\", T = \"ad#c\"\n",
        "Output: true\n",
        "Explanation: Both S and T become \"ac\".\n",
        "\n",
        "Example 2:\n",
        "\n",
        "Input: S = \"ab##\", T = \"c#d#\"\n",
        "Output: true\n",
        "Explanation: Both S and T become \"\".\n",
        "\n",
        "Note:\n",
        "\n",
        "1 <= S.length <= 200\n",
        "1 <= T.length <= 200\n",
        "S and T only contain lowercase letters and '#' characters.\n",
        "\n",
        "Follow up:\n",
        "\n",
        "Can you solve it in O(N) time and O(1) space?\n",
        "\n",
        "https://leetcode.com/explore/challenge/card/30-day-leetcoding-challenge/529/week-2/3291/"
      ]
    },
    {
      "cell_type": "code",
      "metadata": {
        "id": "0gJw-TlJZr4g",
        "colab_type": "code",
        "colab": {}
      },
      "source": [
        "class Solution:\n",
        "    def backspaceCompare(self, S: str, T: str) -> bool:\n",
        "        s = \"\"\n",
        "        flag=0\n",
        "        for i in S[::-1]:\n",
        "            if i==\"#\":\n",
        "                flag+=1\n",
        "                continue\n",
        "            else:\n",
        "                if flag==0:\n",
        "                    s+=i\n",
        "                else:\n",
        "                    flag-=1\n",
        "        t = \"\"\n",
        "        flag=0\n",
        "        for i in T[::-1]:\n",
        "            if i==\"#\":\n",
        "                flag+=1\n",
        "                continue\n",
        "            else:\n",
        "                if flag==0:\n",
        "                    t+=i\n",
        "                else:\n",
        "                    flag-=1\n",
        "            \n",
        "        return s[::-1]==t[::-1]"
      ],
      "execution_count": 0,
      "outputs": []
    },
    {
      "cell_type": "markdown",
      "metadata": {
        "id": "pJt1xGC8Zr4a",
        "colab_type": "text"
      },
      "source": [
        "##  Day 10: Min Stack\n",
        "Design a stack that supports push, pop, top, and retrieving the minimum element in constant time.\n",
        "\n",
        "push(x) -- Push element x onto stack.\n",
        "pop() -- Removes the element on top of the stack.\n",
        "top() -- Get the top element.\n",
        "getMin() -- Retrieve the minimum element in the stack.\n",
        " \n",
        "\n",
        "Example:\n",
        "\n",
        "MinStack minStack = new MinStack();\n",
        "minStack.push(-2);\n",
        "minStack.push(0);\n",
        "minStack.push(-3);\n",
        "minStack.getMin();   --> Returns -3.\n",
        "minStack.pop();\n",
        "minStack.top();      --> Returns 0.\n",
        "minStack.getMin();   --> Returns -2.\n",
        "\n",
        "https://leetcode.com/explore/challenge/card/30-day-leetcoding-challenge/529/week-2/3292/"
      ]
    },
    {
      "cell_type": "code",
      "metadata": {
        "id": "5m6Dns3jZr4a",
        "colab_type": "code",
        "colab": {}
      },
      "source": [
        "class MinStack:\n",
        "\n",
        "    def __init__(self):\n",
        "        \"\"\"\n",
        "        initialize your data structure here.\n",
        "        \"\"\"\n",
        "        self.stack=[]\n",
        "        self.minim=[float('inf')]\n",
        "\n",
        "    def push(self, x: int) -> None:\n",
        "        self.stack.append(x)\n",
        "        if x<=self.minim[-1]:\n",
        "            self.minim.append(x)\n",
        "\n",
        "    def pop(self) -> None:\n",
        "        if self.stack[-1]==self.minim[-1]:\n",
        "            del self.minim[-1]\n",
        "        del self.stack[-1]\n",
        "        \n",
        "\n",
        "    def top(self) -> int:\n",
        "        return self.stack[-1]\n",
        "\n",
        "    def getMin(self) -> int:\n",
        "        # x= sorted(self.stack)\n",
        "        # return x[0]\n",
        "        return min(self.stack)\n",
        "\n",
        "\n",
        "# Your MinStack object will be instantiated and called as such:\n",
        "# obj = MinStack()\n",
        "# obj.push(x)\n",
        "# obj.pop()\n",
        "# param_3 = obj.top()\n",
        "# param_4 = obj.getMin()"
      ],
      "execution_count": 0,
      "outputs": []
    },
    {
      "cell_type": "markdown",
      "metadata": {
        "id": "G1oXKixvZr4S",
        "colab_type": "text"
      },
      "source": [
        "## Day 11: Diameter of Binary Tree\n",
        "\n",
        "Given a binary tree, you need to compute the length of the diameter of the tree. The diameter of a binary tree is the length of the longest path between any two nodes in a tree. This path may or may not pass through the root.\n",
        "\n",
        "\n",
        "Note: The length of path between two nodes is represented by the number of edges between them.\n",
        "https://leetcode.com/explore/challenge/card/30-day-leetcoding-challenge/529/week-2/3293/"
      ]
    },
    {
      "cell_type": "code",
      "metadata": {
        "id": "akG55F_RZr4S",
        "colab_type": "code",
        "colab": {}
      },
      "source": [
        "# Definition for a binary tree node.\n",
        "# class TreeNode:\n",
        "#     def __init__(self, x):\n",
        "#         self.val = x\n",
        "#         self.left = None\n",
        "#         self.right = None\n",
        "\n",
        "class Solution:\n",
        "    def diameterOfBinaryTree(self, root: TreeNode) -> int:\n",
        "        self.res = 0 # Take a global variable to return the longest path\n",
        "        self.findLongestPath(root)\n",
        "        \n",
        "        return self.res\n",
        "    \n",
        "    def findLongestPath(self, root):\n",
        "        if not root:\n",
        "            return 0\n",
        "            \n",
        "        left = self.findLongestPath(root.left)\n",
        "        right = self.findLongestPath(root.right)\n",
        "            \n",
        "        self.res = max(self.res, left + right)\n",
        "        return 1 + max(left, right)"
      ],
      "execution_count": 0,
      "outputs": []
    },
    {
      "cell_type": "markdown",
      "metadata": {
        "id": "rFVixkQKZr4O",
        "colab_type": "text"
      },
      "source": [
        "## Day 12:  Last Stone Weight\n",
        "\n",
        "We have a collection of stones, each stone has a positive integer weight.\n",
        "\n",
        "Each turn, we choose the two heaviest stones and smash them together.  Suppose the stones have weights x and y with x <= y.  The result of this smash is:\n",
        "\n",
        "If x == y, both stones are totally destroyed;\n",
        "If x != y, the stone of weight x is totally destroyed, and the stone of weight y has new weight y-x.\n",
        "At the end, there is at most 1 stone left.  Return the weight of this stone (or 0 if there are no stones left.)\n",
        "\n",
        " \n",
        "\n",
        "Example 1:\n",
        "\n",
        "Input: [2,7,4,1,8,1]\n",
        "Output: 1\n",
        "Explanation: \n",
        "We combine 7 and 8 to get 1 so the array converts to [2,4,1,1,1] then,\n",
        "we combine 2 and 4 to get 2 so the array converts to [2,1,1,1] then,\n",
        "we combine 2 and 1 to get 1 so the array converts to [1,1,1] then,\n",
        "we combine 1 and 1 to get 0 so the array converts to [1] then that's the value of last stone.\n",
        " \n",
        "\n",
        "Note:\n",
        "\n",
        "1 <= stones.length <= 30\n",
        "1 <= stones[i] <= 1000"
      ]
    },
    {
      "cell_type": "code",
      "metadata": {
        "id": "fnWwjnr8Zr4O",
        "colab_type": "code",
        "colab": {}
      },
      "source": [
        "class Solution:\n",
        "    def lastStoneWeight(self, stones: List[int]) -> int:\n",
        "        while len(stones)!=1 and len(stones)!=0:\n",
        "            stones.sort()\n",
        "            x = stones.pop()\n",
        "            y = stones.pop()\n",
        "            if abs(x-y)!=0:\n",
        "                stones.append(x-y)\n",
        "        if len(stones)==0:\n",
        "            return 0\n",
        "        else:\n",
        "            return stones[0]"
      ],
      "execution_count": 0,
      "outputs": []
    },
    {
      "cell_type": "markdown",
      "metadata": {
        "id": "gxvSii_oZr4J",
        "colab_type": "text"
      },
      "source": [
        "## Day 13: Contiguous Array\n",
        "\n",
        "Given a binary array, find the maximum length of a contiguous subarray with equal number of 0 and 1.\n",
        "\n",
        "Example 1:\n",
        "Input: [0,1]\n",
        "Output: 2\n",
        "Explanation: [0, 1] is the longest contiguous subarray with equal number of 0 and 1.\n",
        "Example 2:\n",
        "Input: [0,1,0]\n",
        "Output: 2\n",
        "Explanation: [0, 1] (or [1, 0]) is a longest contiguous subarray with equal number of 0 and 1.\n",
        "Note: The length of the given binary array will not exceed 50,000.\n",
        "\n",
        "https://leetcode.com/explore/challenge/card/30-day-leetcoding-challenge/529/week-2/3298/"
      ]
    },
    {
      "cell_type": "code",
      "metadata": {
        "id": "HISxiyWuZr4K",
        "colab_type": "code",
        "colab": {}
      },
      "source": [
        "class Solution:\n",
        "    def findMaxLength(self, nums: List[int]) -> int:\n",
        "        d = dict()\n",
        "        subarr, count=0,0\n",
        "        for i in range(len(nums)):\n",
        "            if nums[i]==1:\n",
        "                count+=1\n",
        "            else:\n",
        "                count+= -1\n",
        "            if count ==0:\n",
        "                subarr=i+1\n",
        "            if count in d:\n",
        "                subarr = max(subarr, i-d[count])\n",
        "            else:\n",
        "                d[count]=i\n",
        "        return subarr"
      ],
      "execution_count": 0,
      "outputs": []
    },
    {
      "cell_type": "markdown",
      "metadata": {
        "id": "yPRjSkjQZr4F",
        "colab_type": "text"
      },
      "source": [
        "## Day 14: Perform String Shifts\n",
        "Solution\n",
        "You are given a string s containing lowercase English letters, and a matrix shift, where shift[i] = [direction, amount]:\n",
        "\n",
        "direction can be 0 (for left shift) or 1 (for right shift). \n",
        "amount is the amount by which string s is to be shifted.\n",
        "A left shift by 1 means remove the first character of s and append it to the end.\n",
        "Similarly, a right shift by 1 means remove the last character of s and add it to the beginning.\n",
        "Return the final string after all operations.\n",
        "\n",
        " \n",
        "\n",
        "Example 1:\n",
        "\n",
        "Input: s = \"abc\", shift = [[0,1],[1,2]]\n",
        "Output: \"cab\"\n",
        "Explanation: \n",
        "[0,1] means shift to left by 1. \"abc\" -> \"bca\"\n",
        "[1,2] means shift to right by 2. \"bca\" -> \"cab\"\n",
        "Example 2:\n",
        "\n",
        "Input: s = \"abcdefg\", shift = [[1,1],[1,1],[0,2],[1,3]]\n",
        "Output: \"efgabcd\"\n",
        "Explanation:  \n",
        "[1,1] means shift to right by 1. \"abcdefg\" -> \"gabcdef\"\n",
        "[1,1] means shift to right by 1. \"gabcdef\" -> \"fgabcde\"\n",
        "[0,2] means shift to left by 2. \"fgabcde\" -> \"abcdefg\"\n",
        "[1,3] means shift to right by 3. \"abcdefg\" -> \"efgabcd\"\n",
        " \n",
        "\n",
        "Constraints:\n",
        "\n",
        "1 <= s.length <= 100\n",
        "s only contains lower case English letters.\n",
        "1 <= shift.length <= 100\n",
        "shift[i].length == 2\n",
        "0 <= shift[i][0] <= 1\n",
        "0 <= shift[i][1] <= 100\n",
        "\n",
        "\n",
        "https://leetcode.com/explore/challenge/card/30-day-leetcoding-challenge/529/week-2/3299/"
      ]
    },
    {
      "cell_type": "code",
      "metadata": {
        "id": "xPi8O606Zr4G",
        "colab_type": "code",
        "colab": {}
      },
      "source": [
        "class Solution:\n",
        "    def stringShift(self, s: str, shift: List[List[int]]) -> str:\n",
        "        move = 0\n",
        "        for x, y in shift:\n",
        "            if x == 0:\n",
        "                move -= y\n",
        "            else:\n",
        "                move += y\n",
        "        move %= len(s)\n",
        "        return s[-move:] + s[:-move]"
      ],
      "execution_count": 0,
      "outputs": []
    },
    {
      "cell_type": "markdown",
      "metadata": {
        "id": "3A51aoobZr4C",
        "colab_type": "text"
      },
      "source": [
        "## Day 15: Product of Array Except Self\n",
        "\n",
        "Given an array nums of n integers where n > 1,  return an array output such that output[i] is equal to the product of all the elements of nums except nums[i].\n",
        "\n",
        "Example:\n",
        "\n",
        "Input:  [1,2,3,4]\n",
        "Output: [24,12,8,6]\n",
        "Constraint: It's guaranteed that the product of the elements of any prefix or suffix of the array (including the whole array) fits in a 32 bit integer.\n",
        "\n",
        "Note: Please solve it without division and in O(n).\n",
        "\n",
        "Follow up:\n",
        "Could you solve it with constant space complexity? (The output array does not count as extra space for the purpose of space complexity analysis.)"
      ]
    },
    {
      "cell_type": "code",
      "metadata": {
        "id": "zAhfz1kPZr4C",
        "colab_type": "code",
        "colab": {}
      },
      "source": [
        "class Solution:\n",
        "    def productExceptSelf(self, nums: List[int]) -> List[int]:\n",
        "        left = [1]*len(nums)\n",
        "        for i in range(1, len(nums)):\n",
        "            left[i] = left[i-1]*nums[i-1]\n",
        "            \n",
        "        right = [1]*len(nums)\n",
        "        for i in range(len(nums)-2, -1 ,-1):\n",
        "            right[i] = right[i+1]*nums[i+1]\n",
        "        res = [1]*len(nums)\n",
        "        for i in range(len(nums)):\n",
        "            res[i]=left[i]*right[i]\n",
        "        return res"
      ],
      "execution_count": 0,
      "outputs": []
    },
    {
      "cell_type": "markdown",
      "metadata": {
        "id": "4ojvbjPIZr38",
        "colab_type": "text"
      },
      "source": [
        "## Day 16: Valid Parenthesis String\n",
        "\n",
        "\n",
        "Given a string containing only three types of characters: '(', ')' and '*', write a function to check whether this string is valid. We define the validity of a string by these rules:\n",
        "\n",
        "Any left parenthesis '(' must have a corresponding right parenthesis ')'. <br>\n",
        "Any right parenthesis ')' must have a corresponding left parenthesis '('. <br>\n",
        "Left parenthesis '(' must go before the corresponding right parenthesis ')'. <br>\n",
        "'*' could be treated as a single right parenthesis ')' or a single left parenthesis '(' or an empty string. <br>\n",
        "An empty string is also valid.<br>\n",
        "\n",
        "Example 1:\n",
        "Input: \"()\"\n",
        "Output: True\n",
        "\n",
        "Example 2:\n",
        "Input: \"(*)\"\n",
        "Output: True\n",
        "\n",
        "Example 3:\n",
        "Input: \"(*))\"\n",
        "Output: True\n",
        "\n",
        "Note:\n",
        "The string size will be in the range [1, 100].\n",
        "\n",
        "https://leetcode.com/explore/challenge/card/30-day-leetcoding-challenge/530/week-3/3301"
      ]
    },
    {
      "cell_type": "code",
      "metadata": {
        "id": "wKra1sjpZr39",
        "colab_type": "code",
        "colab": {}
      },
      "source": [
        "class Solution:\n",
        "    def checkValidString(self, s: str) -> bool:\n",
        "        lo = hi = 0\n",
        "        for c in s:\n",
        "            lo += 1 if c == '(' else -1\n",
        "            hi += 1 if c != ')' else -1\n",
        "            if hi < 0: break\n",
        "            lo = max(lo, 0)\n",
        "\n",
        "        return lo == 0"
      ],
      "execution_count": 0,
      "outputs": []
    },
    {
      "cell_type": "markdown",
      "metadata": {
        "id": "JxR3wepBZr33",
        "colab_type": "text"
      },
      "source": [
        "## Day 17: Number of Islands\n",
        "\n",
        "Given a 2d grid map of '1's (land) and '0's (water), count the number of islands. An island is surrounded by water and is formed by connecting adjacent lands horizontally or vertically. You may assume all four edges of the grid are all surrounded by water.\n",
        "\n",
        "Example 1:\n",
        "\n",
        "Input:\n",
        "11110\n",
        "11010\n",
        "11000\n",
        "00000\n",
        "\n",
        "Output: 1\n",
        "Example 2:\n",
        "\n",
        "Input:\n",
        "11000\n",
        "11000\n",
        "00100\n",
        "00011\n",
        "\n",
        "Output: 3\n",
        "\n",
        "https://leetcode.com/explore/challenge/card/30-day-leetcoding-challenge/530/week-3/3302/"
      ]
    },
    {
      "cell_type": "code",
      "metadata": {
        "id": "iOKe1FGNZr35",
        "colab_type": "code",
        "colab": {}
      },
      "source": [
        "# Hard One\n",
        "\n",
        "class Solution:\n",
        "    def numIslands(self, grid: List[List[str]]) -> int:\n",
        "        land = set()\n",
        "        for row in range(len(grid)):\n",
        "            for column in range(len(grid[0])):\n",
        "                if grid[row][column] == \"1\":\n",
        "                    land.add((row, column))\n",
        "        islands = 0\n",
        "\n",
        "        def explore(r, c):\n",
        "            if (r,c) in land:\n",
        "                land.remove((r,c))\n",
        "                explore(r, c+1)\n",
        "                explore(r, c-1)\n",
        "                explore(r+1, c)\n",
        "                explore(r-1, c)            \n",
        "\n",
        "        while land:\n",
        "            piece = land.pop()\n",
        "            land.add(piece)\n",
        "            explore(piece[0], piece[1])\n",
        "            islands += 1\n",
        "\n",
        "        return islands\n"
      ],
      "execution_count": 0,
      "outputs": []
    },
    {
      "cell_type": "markdown",
      "metadata": {
        "id": "BXj6BQ_SZr3y",
        "colab_type": "text"
      },
      "source": [
        "## Day 18:  Minimum Path Sum\n",
        "\n",
        "Given a m x n grid filled with non-negative numbers, find a path from top left to bottom right which minimizes the sum of all numbers along its path.\n",
        "\n",
        "Note: You can only move either down or right at any point in time.\n",
        "\n",
        "Example:\n",
        "\n",
        "Input:\n",
        "[\n",
        "  [1,3,1],\n",
        "  [1,5,1],\n",
        "  [4,2,1]\n",
        "]\n",
        "Output: 7\n",
        "Explanation: Because the path 1→3→1→1→1 minimizes the sum.\n",
        "\n",
        "https://leetcode.com/explore/challenge/card/30-day-leetcoding-challenge/530/week-3/3303/"
      ]
    },
    {
      "cell_type": "code",
      "metadata": {
        "id": "BozW8aEOZr3z",
        "colab_type": "code",
        "colab": {}
      },
      "source": [
        "# Replacing grid\n",
        "class Solution:\n",
        "    def minPathSum(self, grid: List[List[int]]) -> int:\n",
        "        c = len(grid)\n",
        "        r = len(grid[0])    \n",
        "        for i in range(c):\n",
        "            for j in range(r):\n",
        "                if i ==0 and j ==0:\n",
        "                    continue\n",
        "                elif i == 0:\n",
        "                    grid[i][j] += grid[i][j-1]\n",
        "                elif j == 0:\n",
        "                    grid[i][j] += grid[i-1][j]\n",
        "                else:\n",
        "                    grid[i][j] += min(grid[i][j-1], grid[i-1][j])              \n",
        "        return grid[-1][-1]"
      ],
      "execution_count": 0,
      "outputs": []
    },
    {
      "cell_type": "markdown",
      "metadata": {
        "id": "R2S8DwruZr3t",
        "colab_type": "text"
      },
      "source": [
        "# Day 19: Search in Rotated Sorted Array\n",
        "Suppose an array sorted in ascending order is rotated at some pivot unknown to you beforehand.\n",
        "\n",
        "(i.e., [0,1,2,4,5,6,7] might become [4,5,6,7,0,1,2]).\n",
        "\n",
        "You are given a target value to search. If found in the array return its index, otherwise return -1.\n",
        "\n",
        "You may assume no duplicate exists in the array.\n",
        "\n",
        "Your algorithm's runtime complexity must be in the order of O(log n).\n",
        "\n",
        "Example 1:\n",
        "\n",
        "Input: nums = [4,5,6,7,0,1,2], target = 0\n",
        "Output: 4\n",
        "\n",
        "Example 2:\n",
        "\n",
        "Input: nums = [4,5,6,7,0,1,2], target = 3\n",
        "Output: -1<br>\n",
        "https://leetcode.com/explore/challenge/card/30-day-leetcoding-challenge/530/week-3/3304/"
      ]
    },
    {
      "cell_type": "code",
      "metadata": {
        "id": "rqlFPm61Zr3t",
        "colab_type": "code",
        "colab": {}
      },
      "source": [
        "class Solution:\n",
        "    def search(self, nums: List[int], target: int) -> int:\n",
        "        if not nums:\n",
        "            return -1\n",
        "\n",
        "        length = len(nums) \n",
        " \n",
        "        if nums[0] > target:\n",
        "            for i in range(1,length):\n",
        "                if nums[-i] == target:\n",
        "                    return length-i \n",
        "\n",
        "        elif nums[0]<target:\n",
        "            for i in range(1,length):\n",
        "                if nums[i] == target:\n",
        "                    return i \n",
        "\n",
        "        else:\n",
        "            return 0\n",
        "        return -1"
      ],
      "execution_count": 0,
      "outputs": []
    },
    {
      "cell_type": "markdown",
      "metadata": {
        "id": "cK4KkLvpZr3n",
        "colab_type": "text"
      },
      "source": [
        "## Day 20 Construct Binary Search Tree from Preorder Traversal\n",
        "\n",
        "Return the root node of a binary search tree that matches the given preorder traversal.\n",
        "\n",
        "(Recall that a binary search tree is a binary tree where for every node, any descendant of node.left has a value < node.val, and any descendant of node.right has a value > node.val.  Also recall that a preorder traversal displays the value of the node first, then traverses node.left, then traverses node.right.)\n",
        "\n",
        "https://leetcode.com/explore/challenge/card/30-day-leetcoding-challenge/530/week-3/3305/"
      ]
    },
    {
      "cell_type": "code",
      "metadata": {
        "id": "g9asZdJNZr3o",
        "colab_type": "code",
        "colab": {}
      },
      "source": [
        "# Definition for a binary tree node.\n",
        "# class TreeNode:\n",
        "#     def __init__(self, val=0, left=None, right=None):\n",
        "#         self.val = val\n",
        "#         self.left = left\n",
        "#         self.right = right\n",
        "class Solution:\n",
        "    def bstFromPreorder(self, preorder: List[int]) -> TreeNode:\n",
        "        if not preorder:\n",
        "            return None\n",
        "        root = TreeNode(preorder[0])\n",
        "        i = 1\n",
        "        while i<len(preorder) and  preorder[i] < root.val:\n",
        "            i+=1\n",
        "        \n",
        "        root.left = self.bstFromPreorder(preorder[1:i])\n",
        "        root.right = self.bstFromPreorder(preorder[i:])\n",
        "        return root "
      ],
      "execution_count": 0,
      "outputs": []
    },
    {
      "cell_type": "markdown",
      "metadata": {
        "id": "_x1uNxq0Zr3h",
        "colab_type": "text"
      },
      "source": [
        "## Day 21: Leftmost Column with at Least a One\n",
        "\n",
        "(This problem is an interactive problem.)\n",
        "\n",
        "A binary matrix means that all elements are 0 or 1. For each individual row of the matrix, this row is sorted in non-decreasing order.\n",
        "\n",
        "Given a row-sorted binary matrix binaryMatrix, return leftmost column index(0-indexed) with at least a 1 in it. If such index doesn't exist, return -1.\n",
        "\n",
        "You can't access the Binary Matrix directly.  You may only access the matrix using a BinaryMatrix interface:\n",
        "\n",
        "BinaryMatrix.get(x, y) returns the element of the matrix at index (x, y) (0-indexed).\n",
        "BinaryMatrix.dimensions() returns a list of 2 elements [n, m], which means the matrix is n * m.\n",
        "Submissions making more than 1000 calls to BinaryMatrix.get will be judged Wrong Answer.  Also, any solutions that attempt to circumvent the judge will result in disqualification.\n",
        "\n",
        "For custom testing purposes you're given the binary matrix mat as input in the following four examples. You will not have access the binary matrix directly\n",
        "\n",
        "https://leetcode.com/explore/challenge/card/30-day-leetcoding-challenge/530/week-3/3306/"
      ]
    },
    {
      "cell_type": "code",
      "metadata": {
        "id": "d6o400Z0Zr3i",
        "colab_type": "code",
        "colab": {}
      },
      "source": [
        "# \"\"\"\n",
        "# This is BinaryMatrix's API interface.\n",
        "# You should not implement it, or speculate about its implementation\n",
        "# \"\"\"\n",
        "#class BinaryMatrix(object):\n",
        "#    def get(self, row: int, col: int) -> int:\n",
        "#    def dimensions(self) -> list[]:\n",
        "\n",
        "class Solution:\n",
        "    def leftMostColumnWithOne(self, binaryMatrix: 'BinaryMatrix') -> int:\n",
        "        n,m = BinaryMatrix.dimensions(binaryMatrix)\n",
        "        seen = -1                            \n",
        "        r = 0; c = m-1;\n",
        "        while r<n and c>-1:\n",
        "            val = BinaryMatrix.get(binaryMatrix, r,c)\n",
        "            if val:\n",
        "                seen = c\n",
        "                c += -1\n",
        "            else: \n",
        "                r += 1                           \n",
        "        return seen"
      ],
      "execution_count": 0,
      "outputs": []
    },
    {
      "cell_type": "markdown",
      "metadata": {
        "id": "80q5XGISZr3c",
        "colab_type": "text"
      },
      "source": [
        "## Day 22: Subarray Sum Equals K\n",
        "\n",
        "Given an array of integers and an integer k, you need to find the total number of continuous subarrays whose sum equals to k.\n",
        "\n",
        "Example 1:\n",
        "Input:nums = [1,1,1], k = 2\n",
        "Output: 2\n",
        "\n",
        "Note:\n",
        "The length of the array is in range [1, 20,000].\n",
        "The range of numbers in the array is [-1000, 1000] and the range of the integer k is [-1e7, 1e7].\n",
        "https://leetcode.com/explore/challenge/card/30-day-leetcoding-challenge/531/week-4/3307/"
      ]
    },
    {
      "cell_type": "code",
      "metadata": {
        "id": "l5ND4kE4Zr3d",
        "colab_type": "code",
        "colab": {}
      },
      "source": [
        "class Solution:\n",
        "    def subarraySum(self, nums: List[int], k: int) -> int:\n",
        "        subsums = {}\n",
        "        count =0; cur_sum = 0\n",
        "        for n in nums:\n",
        "            cur_sum += n; diff = cur_sum-k\n",
        "            if cur_sum == k:\n",
        "                count +=1\n",
        "            if diff in subsums.keys():\n",
        "                count += subsums[diff]\n",
        "            if cur_sum in subsums.keys():\n",
        "                subsums[cur_sum] +=1 \n",
        "            else:\n",
        "                subsums[cur_sum] =1\n",
        "        return count"
      ],
      "execution_count": 0,
      "outputs": []
    },
    {
      "cell_type": "markdown",
      "metadata": {
        "id": "13cgIhdOZr3X",
        "colab_type": "text"
      },
      "source": [
        "## Day 23: Bitwise AND of Numbers Range\n",
        "Given a range [m, n] where 0 <= m <= n <= 2147483647, return the bitwise AND of all numbers in this range, inclusive.\n",
        "\n",
        "Example 1:\n",
        "\n",
        "Input: [5,7]\n",
        "Output: 4\n",
        "\n",
        "Example 2:\n",
        "\n",
        "Input: [0,1]\n",
        "Output: 0<br>\n",
        "https://leetcode.com/explore/challenge/card/30-day-leetcoding-challenge/531/week-4/3308/"
      ]
    },
    {
      "cell_type": "code",
      "metadata": {
        "id": "62wOsUvUZr3Y",
        "colab_type": "code",
        "colab": {}
      },
      "source": [
        "class Solution:\n",
        "    def rangeBitwiseAnd(self, m: int, n: int) -> int:\n",
        "        tail = 0\n",
        "        while m != n:\n",
        "            m >>= 1 \n",
        "            n >>= 1\n",
        "            tail += 1\n",
        "        return m << tail"
      ],
      "execution_count": 0,
      "outputs": []
    },
    {
      "cell_type": "markdown",
      "metadata": {
        "id": "-ErFjCeQZr3Q",
        "colab_type": "text"
      },
      "source": [
        "## Day 24: LRU Cache\n",
        "\n",
        "Design and implement a data structure for Least Recently Used (LRU) cache. It should support the following operations: get and put.\n",
        "\n",
        "get(key) - Get the value (will always be positive) of the key if the key exists in the cache, otherwise return -1.\n",
        "put(key, value) - Set or insert the value if the key is not already present. When the cache reached its capacity, it should invalidate the least recently used item before inserting a new item.\n",
        "\n",
        "The cache is initialized with a positive capacity.\n",
        "\n",
        "Follow up:\n",
        "Could you do both operations in O(1) time complexity?\n",
        "\n",
        "Example:\n",
        "\n",
        "LRUCache cache = new LRUCache( 2 /* capacity */ );\n",
        "\n",
        "cache.put(1, 1);\n",
        "cache.put(2, 2);\n",
        "cache.get(1);       // returns 1\n",
        "cache.put(3, 3);    // evicts key 2\n",
        "cache.get(2);       // returns -1 (not found)\n",
        "cache.put(4, 4);    // evicts key 1\n",
        "cache.get(1);       // returns -1 (not found)\n",
        "cache.get(3);       // returns 3\n",
        "cache.get(4);       // returns 4<br>\n",
        "https://leetcode.com/explore/challenge/card/30-day-leetcoding-challenge/531/week-4/3309/\n",
        " \n"
      ]
    },
    {
      "cell_type": "code",
      "metadata": {
        "id": "ORwpnXkTZr3R",
        "colab_type": "code",
        "colab": {}
      },
      "source": [
        "class LRUCache:\n",
        "\n",
        "    def __init__(self, capacity: int):\n",
        "        self.capacity = capacity  \n",
        "        self.cache = OrderedDict()\n",
        "\n",
        "    def get(self, key: int) -> int:        \n",
        "        if key in self.cache.keys():\n",
        "            self.cache.move_to_end(key, last = False) \n",
        "            return self.cache[key]\n",
        "        else:\n",
        "            return -1\n",
        "        \n",
        "        \n",
        "    def put(self, key: int, value: int) -> None:  \n",
        "        self.cache[key] = value\n",
        "        self.cache.move_to_end(key,last = False)\n",
        "        if len(self.cache.keys())>self.capacity:\n",
        "            self.cache.popitem()\n",
        "        \n",
        "\n",
        "\n",
        "# Your LRUCache object will be instantiated and called as such:\n",
        "# obj = LRUCache(capacity)\n",
        "# param_1 = obj.get(key)\n",
        "# obj.put(key,value)"
      ],
      "execution_count": 0,
      "outputs": []
    },
    {
      "cell_type": "markdown",
      "metadata": {
        "id": "QFsX4mJGZr3J",
        "colab_type": "text"
      },
      "source": [
        "## Day 25: Jump Game\n",
        "Given an array of non-negative integers, you are initially positioned at the first index of the array.\n",
        "\n",
        "Each element in the array represents your maximum jump length at that position.\n",
        "\n",
        "Determine if you are able to reach the last index.\n",
        "\n",
        "Example 1:\n",
        "\n",
        "Input: [2,3,1,1,4]\n",
        "Output: true\n",
        "Explanation: Jump 1 step from index 0 to 1, then 3 steps to the last index.\n",
        "\n",
        "Example 2:\n",
        "\n",
        "Input: [3,2,1,0,4]\n",
        "Output: false\n",
        "Explanation: You will always arrive at index 3 no matter what. Its maximum\n",
        "             jump length is 0, which makes it impossible to reach the last index.<br>\n",
        "https://leetcode.com/explore/challenge/card/30-day-leetcoding-challenge/531/week-4/3310/"
      ]
    },
    {
      "cell_type": "code",
      "metadata": {
        "id": "P0qZGqegZr3K",
        "colab_type": "code",
        "colab": {}
      },
      "source": [
        "class Solution:\n",
        "    def canJump(self, nums: List[int]) -> bool:\n",
        "        cur_max = nums[0]\n",
        "\n",
        "        for i in range(1, len(nums)):\n",
        "            if cur_max == 0:\n",
        "                return False\n",
        "            cur_max = max(cur_max - 1, nums[i])\n",
        "\n",
        "        return True "
      ],
      "execution_count": 0,
      "outputs": []
    },
    {
      "cell_type": "markdown",
      "metadata": {
        "id": "cIiR3jsqZr3C",
        "colab_type": "text"
      },
      "source": [
        "## Day 26 Longest Common Subsequence\n",
        "\n",
        "Given two strings text1 and text2, return the length of their longest common subsequence.\n",
        "\n",
        "A subsequence of a string is a new string generated from the original string with some characters(can be none) deleted without changing the relative order of the remaining characters. (eg, \"ace\" is a subsequence of \"abcde\" while \"aec\" is not). A common subsequence of two strings is a subsequence that is common to both strings.\n",
        "\n",
        "If there is no common subsequence, return 0.\n",
        "\n",
        "Example 1:\n",
        "\n",
        "Input: text1 = \"abcde\", text2 = \"ace\" \n",
        "Output: 3  \n",
        "Explanation: The longest common subsequence is \"ace\" and its length is 3.<br>\n",
        "https://leetcode.com/explore/challenge/card/30-day-leetcoding-challenge/531/week-4/3311/"
      ]
    },
    {
      "cell_type": "code",
      "metadata": {
        "id": "jwRjNDGcZr3E",
        "colab_type": "code",
        "colab": {}
      },
      "source": [
        "class Solution:\n",
        "    def longestCommonSubsequence(self, text1: str, text2: str) -> int:\n",
        "        m = len(text1) \n",
        "        n = len(text2) \n",
        "\n",
        "        A = [[None]*(n+1) for i in range(m+1)] \n",
        "\n",
        "        for i in range(m+1): \n",
        "            for j in range(n+1): \n",
        "                if i == 0 or j == 0 : \n",
        "                    A[i][j] = 0\n",
        "                elif text1[i-1] == text2[j-1]: \n",
        "                    A[i][j] = A[i-1][j-1]+1\n",
        "                else: \n",
        "                    A[i][j] = max(A[i-1][j] , A[i][j-1])         \n",
        "        return A[m][n] "
      ],
      "execution_count": 0,
      "outputs": []
    },
    {
      "cell_type": "markdown",
      "metadata": {
        "id": "mGom2lmnZr25",
        "colab_type": "text"
      },
      "source": [
        "## Day 27 Maximal Square\n",
        "\n",
        "Given a 2D binary matrix filled with 0's and 1's, find the largest square containing only 1's and return its area.\n",
        "https://leetcode.com/explore/challenge/card/30-day-leetcoding-challenge/531/week-4/3312/"
      ]
    },
    {
      "cell_type": "code",
      "metadata": {
        "id": "x45tSnNpZr28",
        "colab_type": "code",
        "colab": {}
      },
      "source": [
        "class Solution:\n",
        "    def maximalSquare(self, matrix: List[List[str]]) -> int:\n",
        "        if len(matrix) == 0:\n",
        "            return 0\n",
        "\n",
        "        rows = len(matrix)\n",
        "        columns = len(matrix[0])\n",
        "\n",
        "        cached = [[0 for c in range(columns)] for r in range(rows)] \n",
        "\n",
        "        max_len = 0\n",
        "        for i in range(rows):\n",
        "            for j in range(columns):\n",
        "                if matrix[i][j] == \"1\":\n",
        "                    cached[i][j] = min(cached[i][j-1], cached[i-1][j], cached[i-1][j-1]) + 1 \n",
        "                    max_len = max(max_len,cached[i][j])          \n",
        "        return max_len**2    "
      ],
      "execution_count": 0,
      "outputs": []
    },
    {
      "cell_type": "markdown",
      "metadata": {
        "id": "J58rhZf9Zr2o",
        "colab_type": "text"
      },
      "source": [
        "## Day 28: First Unique Number\n",
        "You have a queue of integers, you need to retrieve the first unique integer in the queue.\n",
        "\n",
        "Implement the FirstUnique class:\n",
        "\n",
        "FirstUnique(int[] nums) Initializes the object with the numbers in the queue.\n",
        "int showFirstUnique() returns the value of the first unique integer of the queue, and returns -1 if there is no such integer.\n",
        "void add(int value) insert value to the queue.\n",
        " \n",
        "\n",
        "Example 1:\n",
        "\n",
        "Input: \n",
        "[\"FirstUnique\",\"showFirstUnique\",\"add\",\"showFirstUnique\",\"add\",\"showFirstUnique\",\"add\",\"showFirstUnique\"]\n",
        "[[[2,3,5]],[],[5],[],[2],[],[3],[]]\n",
        "\n",
        "Output: \n",
        "[null,2,null,2,null,3,null,-1]<br>\n",
        "https://leetcode.com/explore/challenge/card/30-day-leetcoding-challenge/531/week-4/3312/"
      ]
    },
    {
      "cell_type": "code",
      "metadata": {
        "id": "M3V8vGdzZr2q",
        "colab_type": "code",
        "colab": {}
      },
      "source": [
        "from collections import Counter\n",
        "class FirstUnique:\n",
        "\n",
        "    def __init__(self, nums: List[int]):\n",
        "        ct = Counter(nums)\n",
        "        self.hashed = ct\n",
        "        \n",
        "    def showFirstUnique(self) -> int:\n",
        "        keys = self.hashed.keys()\n",
        "       \n",
        "        for k in keys:\n",
        "            if self.hashed[k] == 1:\n",
        "                return k        \n",
        "        return -1          \n",
        "        \n",
        "    def add(self, value: int) -> None:\n",
        "        if value in self.hashed.keys():\n",
        "            self.hashed[value] += 1\n",
        "        else:\n",
        "            self.hashed[value] = 1\n",
        "        \n",
        "\n",
        "\n",
        "# Your FirstUnique object will be instantiated and called as such:\n",
        "# obj = FirstUnique(nums)\n",
        "# param_1 = obj.showFirstUnique()\n",
        "# obj.add(value)"
      ],
      "execution_count": 0,
      "outputs": []
    },
    {
      "cell_type": "markdown",
      "metadata": {
        "id": "DQ9SzKLikW6J",
        "colab_type": "text"
      },
      "source": [
        "### Day 29: Binary Tree Maximum Path Sum\n",
        "Given a non-empty binary tree, find the maximum path sum.\n",
        "\n",
        "For this problem, a path is defined as any sequence of nodes from some starting node to any node in the tree along the parent-child connections. The path must contain at least one node and does not need to go through the root.<br>\n",
        "https://leetcode.com/explore/challenge/card/30-day-leetcoding-challenge/531/week-4/3312/"
      ]
    },
    {
      "cell_type": "code",
      "metadata": {
        "id": "bMiS2cvfjLVh",
        "colab_type": "code",
        "colab": {}
      },
      "source": [
        "# Definition for a binary tree node.\n",
        "# class TreeNode:\n",
        "#     def __init__(self, x):\n",
        "#         self.val = x\n",
        "#         self.left = None\n",
        "#         self.right = None\n",
        "\n",
        "class Solution:\n",
        "    def get_sum(self, root):\n",
        "        if root is None:\n",
        "            return 0\n",
        "        else:\n",
        "            ls = max(self.get_sum(root.left), 0)\n",
        "            rs = max(self.get_sum(root.right), 0)\n",
        "            self.max = max(self.max, ls + rs + root.val)\n",
        "            return max(ls, rs, 0) + root.val\n",
        "\n",
        "    def maxPathSum(self, root: TreeNode) -> int:\n",
        "        self.max = float('-inf')\n",
        "        self.get_sum(root)\n",
        "        return self.max"
      ],
      "execution_count": 0,
      "outputs": []
    },
    {
      "cell_type": "markdown",
      "metadata": {
        "id": "fFbAJr2qk6Dr",
        "colab_type": "text"
      },
      "source": [
        "### Day 30: Check If a String Is a Valid Sequence from Root to Leaves Path in a Binary Tree\n",
        "Given a binary tree where each path going from the root to any leaf form a valid sequence, check if a given string is a valid sequence in such binary tree. \n",
        "\n",
        "We get the given string from the concatenation of an array of integers arr and the concatenation of all values of the nodes along a path results in a sequence in the given binary tree.<br>\n",
        "https://leetcode.com/explore/challenge/card/30-day-leetcoding-challenge/531/week-4/3312/"
      ]
    },
    {
      "cell_type": "code",
      "metadata": {
        "id": "yi8rxmblkjUp",
        "colab_type": "code",
        "colab": {}
      },
      "source": [
        "# Definition for a binary tree node.\n",
        "# class TreeNode:\n",
        "#     def __init__(self, val=0, left=None, right=None):\n",
        "#         self.val = val\n",
        "#         self.left = left\n",
        "#         self.right = right\n",
        "class Solution:\n",
        "    def isLeaf(self, node):\n",
        "        return (node.left == None and node.right == None)\n",
        "\n",
        "    def dfs(self, root, arr, index, n):\n",
        "        if not root:\n",
        "            return n == 0\n",
        "\n",
        "        if self.isLeaf(root) and root.val == arr[index] and (index == n - 1):\n",
        "            return True\n",
        "\n",
        "        if index < n-1 and root.val == arr[index]:\n",
        "            return self.dfs(root.left, arr, index+1, n) or self.dfs(root.right, arr, index+1, n)\n",
        "\n",
        "        return False\n",
        "    def isValidSequence(self, root: TreeNode, arr: List[int]) -> bool:\n",
        "        return self.dfs(root, arr, 0, len(arr))"
      ],
      "execution_count": 0,
      "outputs": []
    }
  ]
}